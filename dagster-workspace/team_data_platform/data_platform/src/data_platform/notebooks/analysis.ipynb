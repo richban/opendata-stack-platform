{
 "cells": [
  {
   "cell_type": "code",
   "execution_count": 1,
   "id": "47e20a05-0dc3-4905-9701-1ac2e3b4417b",
   "metadata": {
    "execution": {
     "iopub.execute_input": "2024-11-14T15:11:56.649568Z",
     "iopub.status.busy": "2024-11-14T15:11:56.646988Z",
     "iopub.status.idle": "2024-11-14T15:11:56.658158Z",
     "shell.execute_reply": "2024-11-14T15:11:56.657113Z",
     "shell.execute_reply.started": "2024-11-14T15:11:56.649476Z"
    }
   },
   "outputs": [],
   "source": [
    "import os\n",
    "\n",
    "import duckdb\n",
    "import polars as pl\n",
    "from dagster import EnvVar\n",
    "from dotenv import load_dotenv"
   ]
  },
  {
   "cell_type": "code",
   "execution_count": null,
   "id": "92ed3881-9d06-46e8-b7c2-282b696c6894",
   "metadata": {
    "execution": {
     "iopub.execute_input": "2024-11-16T15:09:54.310378Z",
     "iopub.status.busy": "2024-11-16T15:09:54.309592Z",
     "iopub.status.idle": "2024-11-16T15:09:54.366804Z",
     "shell.execute_reply": "2024-11-16T15:09:54.366140Z",
     "shell.execute_reply.started": "2024-11-16T15:09:54.310344Z"
    }
   },
   "outputs": [],
   "source": [
    "conn = duckdb.connect(\"nyc_database.duckdb\")\n",
    "conn.sql(\"SHOW ALL TABLES\")"
   ]
  },
  {
   "cell_type": "code",
   "execution_count": null,
   "id": "62493e27-c57f-4bb2-9ae3-7408baa410a7",
   "metadata": {},
   "outputs": [],
   "source": [
    "conn.sql(\n",
    "    \"\"\"\n",
    "CREATE OR REPLACE SECRET secret1 (\n",
    "    TYPE S3,\n",
    "    KEY_ID 'minioadmin',\n",
    "    SECRET 'minioadmin',\n",
    "    ENDPOINT '127.0.0.1:9000',\n",
    "    REGION 'us-east-1',\n",
    "    USE_SSL 'false',\n",
    "    URL_STYLE 'path' -- Required for MinIO to work with path-style URLs\n",
    ");\n",
    "\"\"\"\n",
    ")"
   ]
  },
  {
   "cell_type": "code",
   "execution_count": 23,
   "id": "730dc583-fb5e-479c-b51a-7669f321f000",
   "metadata": {
    "execution": {
     "iopub.execute_input": "2024-11-15T08:49:04.709570Z",
     "iopub.status.busy": "2024-11-15T08:49:04.709271Z",
     "iopub.status.idle": "2024-11-15T08:49:04.712073Z",
     "shell.execute_reply": "2024-11-15T08:49:04.711589Z",
     "shell.execute_reply.started": "2024-11-15T08:49:04.709544Z"
    },
    "scrolled": true
   },
   "outputs": [],
   "source": [
    "s3_path = \"s3://datalake/raw/yellow_taxi_trips/taxi_trips_2024-01.parquet\"\n",
    "\n",
    "# conn.sql(f\"select * from '{s3_path}'\")"
   ]
  },
  {
   "cell_type": "code",
   "execution_count": null,
   "id": "44fe80f6-fa77-4e96-80b0-65c20b709334",
   "metadata": {
    "execution": {
     "iopub.execute_input": "2024-11-15T08:49:05.592490Z",
     "iopub.status.busy": "2024-11-15T08:49:05.592179Z",
     "iopub.status.idle": "2024-11-15T08:49:05.704373Z",
     "shell.execute_reply": "2024-11-15T08:49:05.703906Z",
     "shell.execute_reply.started": "2024-11-15T08:49:05.592461Z"
    }
   },
   "outputs": [],
   "source": [
    "df = pl.read_parquet(\n",
    "    s3_path,\n",
    "    # storage_options=storage_options\n",
    ")\n",
    "\n",
    "df"
   ]
  },
  {
   "cell_type": "code",
   "execution_count": null,
   "id": "eba42d5b-b405-49fb-9817-f3a52e6367eb",
   "metadata": {},
   "outputs": [],
   "source": [
    "conn.sql(\"select * from yellow_taxi_trip_raw_20241113021337\")"
   ]
  },
  {
   "cell_type": "code",
   "execution_count": 21,
   "id": "9dcea54c-07ba-483c-acf1-31b9d46cfa4a",
   "metadata": {
    "execution": {
     "iopub.execute_input": "2024-11-14T15:12:36.085764Z",
     "iopub.status.busy": "2024-11-14T15:12:36.085522Z",
     "iopub.status.idle": "2024-11-14T15:12:36.089453Z",
     "shell.execute_reply": "2024-11-14T15:12:36.089018Z",
     "shell.execute_reply.started": "2024-11-14T15:12:36.085749Z"
    }
   },
   "outputs": [],
   "source": [
    "conn.close()"
   ]
  },
  {
   "cell_type": "code",
   "execution_count": null,
   "id": "27e65877-ad26-4ece-9240-6e006325dc3a",
   "metadata": {
    "execution": {
     "iopub.execute_input": "2024-11-15T08:49:19.815085Z",
     "iopub.status.busy": "2024-11-15T08:49:19.814628Z",
     "iopub.status.idle": "2024-11-15T08:49:19.819467Z",
     "shell.execute_reply": "2024-11-15T08:49:19.819048Z",
     "shell.execute_reply.started": "2024-11-15T08:49:19.815068Z"
    }
   },
   "outputs": [],
   "source": [
    "schema_2024 = df.schema\n",
    "schema_2024"
   ]
  },
  {
   "cell_type": "code",
   "execution_count": null,
   "id": "fa669aae-602a-4e55-9139-7cd606ada8a6",
   "metadata": {
    "execution": {
     "iopub.execute_input": "2024-11-14T09:08:59.260105Z",
     "iopub.status.busy": "2024-11-14T09:08:59.257734Z",
     "iopub.status.idle": "2024-11-14T09:08:59.272847Z",
     "shell.execute_reply": "2024-11-14T09:08:59.271820Z",
     "shell.execute_reply.started": "2024-11-14T09:08:59.260010Z"
    }
   },
   "outputs": [],
   "source": [
    "schema_2009 = df.schema\n",
    "schema_2009"
   ]
  },
  {
   "cell_type": "code",
   "execution_count": null,
   "id": "6617ffb6-c357-484c-98da-99be574e658a",
   "metadata": {},
   "outputs": [],
   "source": []
  }
 ],
 "metadata": {
  "kernelspec": {
   "display_name": ".venv",
   "language": "python",
   "name": "python3"
  },
  "language_info": {
   "codemirror_mode": {
    "name": "ipython",
    "version": 3
   },
   "file_extension": ".py",
   "mimetype": "text/x-python",
   "name": "python",
   "nbconvert_exporter": "python",
   "pygments_lexer": "ipython3",
   "version": "3.11.10"
  }
 },
 "nbformat": 4,
 "nbformat_minor": 5
}
