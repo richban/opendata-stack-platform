{
 "cells": [
  {
   "cell_type": "code",
   "execution_count": 19,
   "id": "47e20a05-0dc3-4905-9701-1ac2e3b4417b",
   "metadata": {
    "execution": {
     "iopub.execute_input": "2024-11-14T15:11:56.649568Z",
     "iopub.status.busy": "2024-11-14T15:11:56.646988Z",
     "iopub.status.idle": "2024-11-14T15:11:56.658158Z",
     "shell.execute_reply": "2024-11-14T15:11:56.657113Z",
     "shell.execute_reply.started": "2024-11-14T15:11:56.649476Z"
    }
   },
   "outputs": [],
   "source": [
    "import duckdb\n",
    "import polars as pl\n",
    "import os\n",
    "from dotenv import load_dotenv\n",
    "from dagster import EnvVar"
   ]
  },
  {
   "cell_type": "code",
   "execution_count": 26,
   "id": "92ed3881-9d06-46e8-b7c2-282b696c6894",
   "metadata": {
    "execution": {
     "iopub.execute_input": "2024-11-16T15:09:54.310378Z",
     "iopub.status.busy": "2024-11-16T15:09:54.309592Z",
     "iopub.status.idle": "2024-11-16T15:09:54.366804Z",
     "shell.execute_reply": "2024-11-16T15:09:54.366140Z",
     "shell.execute_reply.started": "2024-11-16T15:09:54.310344Z"
    }
   },
   "outputs": [
    {
     "ename": "IOException",
     "evalue": "IO Error: Could not set lock on file \"/Users/richard.banyi/Developer/opendata-stack-platform/data/nyc_database.duckdb\": Conflicting lock is held in /Applications/DB Pilot.app/Contents/MacOS/DB Pilot (PID 92677) by user richard.banyi. See also https://duckdb.org/docs/connect/concurrency",
     "output_type": "error",
     "traceback": [
      "\u001b[0;31m---------------------------------------------------------------------------\u001b[0m",
      "\u001b[0;31mIOException\u001b[0m                               Traceback (most recent call last)",
      "Cell \u001b[0;32mIn[26], line 1\u001b[0m\n\u001b[0;32m----> 1\u001b[0m conn \u001b[38;5;241m=\u001b[39m \u001b[43mduckdb\u001b[49m\u001b[38;5;241;43m.\u001b[39;49m\u001b[43mconnect\u001b[49m\u001b[43m(\u001b[49m\n\u001b[1;32m      2\u001b[0m \u001b[43m    \u001b[49m\u001b[38;5;124;43m\"\u001b[39;49m\u001b[38;5;124;43mnyc_database.duckdb\u001b[39;49m\u001b[38;5;124;43m\"\u001b[39;49m\n\u001b[1;32m      3\u001b[0m \u001b[43m)\u001b[49m\n\u001b[1;32m      4\u001b[0m conn\u001b[38;5;241m.\u001b[39msql(\u001b[38;5;124m\"\u001b[39m\u001b[38;5;124mSHOW ALL TABLES\u001b[39m\u001b[38;5;124m\"\u001b[39m)\n",
      "\u001b[0;31mIOException\u001b[0m: IO Error: Could not set lock on file \"/Users/richard.banyi/Developer/opendata-stack-platform/data/nyc_database.duckdb\": Conflicting lock is held in /Applications/DB Pilot.app/Contents/MacOS/DB Pilot (PID 92677) by user richard.banyi. See also https://duckdb.org/docs/connect/concurrency"
     ]
    }
   ],
   "source": [
    "conn = duckdb.connect(\"nyc_database.duckdb\")\n",
    "conn.sql(\"SHOW ALL TABLES\")"
   ]
  },
  {
   "cell_type": "code",
   "execution_count": null,
   "id": "62493e27-c57f-4bb2-9ae3-7408baa410a7",
   "metadata": {},
   "outputs": [],
   "source": [
    "conn.sql(\"\"\"\n",
    "CREATE OR REPLACE SECRET secret1 (\n",
    "    TYPE S3,\n",
    "    KEY_ID 'minioadmin',\n",
    "    SECRET 'minioadmin',\n",
    "    ENDPOINT '127.0.0.1:9000',\n",
    "    REGION 'us-east-1',\n",
    "    USE_SSL 'false',\n",
    "    URL_STYLE 'path' -- Required for MinIO to work with path-style URLs\n",
    ");\n",
    "\"\"\")"
   ]
  },
  {
   "cell_type": "code",
   "execution_count": 23,
   "id": "730dc583-fb5e-479c-b51a-7669f321f000",
   "metadata": {
    "execution": {
     "iopub.execute_input": "2024-11-15T08:49:04.709570Z",
     "iopub.status.busy": "2024-11-15T08:49:04.709271Z",
     "iopub.status.idle": "2024-11-15T08:49:04.712073Z",
     "shell.execute_reply": "2024-11-15T08:49:04.711589Z",
     "shell.execute_reply.started": "2024-11-15T08:49:04.709544Z"
    },
    "scrolled": true
   },
   "outputs": [],
   "source": [
    "s3_path = \"s3://datalake/raw/yellow_taxi_trips/taxi_trips_2024-01.parquet\"\n",
    "\n",
    "# conn.sql(f\"select * from '{s3_path}'\")"
   ]
  },
  {
   "cell_type": "code",
   "execution_count": 24,
   "id": "44fe80f6-fa77-4e96-80b0-65c20b709334",
   "metadata": {
    "execution": {
     "iopub.execute_input": "2024-11-15T08:49:05.592490Z",
     "iopub.status.busy": "2024-11-15T08:49:05.592179Z",
     "iopub.status.idle": "2024-11-15T08:49:05.704373Z",
     "shell.execute_reply": "2024-11-15T08:49:05.703906Z",
     "shell.execute_reply.started": "2024-11-15T08:49:05.592461Z"
    }
   },
   "outputs": [
    {
     "data": {
      "text/html": [
       "<div><style>\n",
       ".dataframe > thead > tr,\n",
       ".dataframe > tbody > tr {\n",
       "  text-align: right;\n",
       "  white-space: pre-wrap;\n",
       "}\n",
       "</style>\n",
       "<small>shape: (2_964_624, 19)</small><table border=\"1\" class=\"dataframe\"><thead><tr><th>VendorID</th><th>tpep_pickup_datetime</th><th>tpep_dropoff_datetime</th><th>passenger_count</th><th>trip_distance</th><th>RatecodeID</th><th>store_and_fwd_flag</th><th>PULocationID</th><th>DOLocationID</th><th>payment_type</th><th>fare_amount</th><th>extra</th><th>mta_tax</th><th>tip_amount</th><th>tolls_amount</th><th>improvement_surcharge</th><th>total_amount</th><th>congestion_surcharge</th><th>Airport_fee</th></tr><tr><td>i32</td><td>datetime[ns]</td><td>datetime[ns]</td><td>i64</td><td>f64</td><td>i64</td><td>str</td><td>i32</td><td>i32</td><td>i64</td><td>f64</td><td>f64</td><td>f64</td><td>f64</td><td>f64</td><td>f64</td><td>f64</td><td>f64</td><td>f64</td></tr></thead><tbody><tr><td>2</td><td>2024-01-01 00:57:55</td><td>2024-01-01 01:17:43</td><td>1</td><td>1.72</td><td>1</td><td>&quot;N&quot;</td><td>186</td><td>79</td><td>2</td><td>17.7</td><td>1.0</td><td>0.5</td><td>0.0</td><td>0.0</td><td>1.0</td><td>22.7</td><td>2.5</td><td>0.0</td></tr><tr><td>1</td><td>2024-01-01 00:03:00</td><td>2024-01-01 00:09:36</td><td>1</td><td>1.8</td><td>1</td><td>&quot;N&quot;</td><td>140</td><td>236</td><td>1</td><td>10.0</td><td>3.5</td><td>0.5</td><td>3.75</td><td>0.0</td><td>1.0</td><td>18.75</td><td>2.5</td><td>0.0</td></tr><tr><td>1</td><td>2024-01-01 00:17:06</td><td>2024-01-01 00:35:01</td><td>1</td><td>4.7</td><td>1</td><td>&quot;N&quot;</td><td>236</td><td>79</td><td>1</td><td>23.3</td><td>3.5</td><td>0.5</td><td>3.0</td><td>0.0</td><td>1.0</td><td>31.3</td><td>2.5</td><td>0.0</td></tr><tr><td>1</td><td>2024-01-01 00:36:38</td><td>2024-01-01 00:44:56</td><td>1</td><td>1.4</td><td>1</td><td>&quot;N&quot;</td><td>79</td><td>211</td><td>1</td><td>10.0</td><td>3.5</td><td>0.5</td><td>2.0</td><td>0.0</td><td>1.0</td><td>17.0</td><td>2.5</td><td>0.0</td></tr><tr><td>1</td><td>2024-01-01 00:46:51</td><td>2024-01-01 00:52:57</td><td>1</td><td>0.8</td><td>1</td><td>&quot;N&quot;</td><td>211</td><td>148</td><td>1</td><td>7.9</td><td>3.5</td><td>0.5</td><td>3.2</td><td>0.0</td><td>1.0</td><td>16.1</td><td>2.5</td><td>0.0</td></tr><tr><td>&hellip;</td><td>&hellip;</td><td>&hellip;</td><td>&hellip;</td><td>&hellip;</td><td>&hellip;</td><td>&hellip;</td><td>&hellip;</td><td>&hellip;</td><td>&hellip;</td><td>&hellip;</td><td>&hellip;</td><td>&hellip;</td><td>&hellip;</td><td>&hellip;</td><td>&hellip;</td><td>&hellip;</td><td>&hellip;</td><td>&hellip;</td></tr><tr><td>2</td><td>2024-01-31 23:45:59</td><td>2024-01-31 23:54:36</td><td>null</td><td>3.18</td><td>null</td><td>null</td><td>107</td><td>263</td><td>0</td><td>15.77</td><td>0.0</td><td>0.5</td><td>2.0</td><td>0.0</td><td>1.0</td><td>21.77</td><td>null</td><td>null</td></tr><tr><td>1</td><td>2024-01-31 23:13:07</td><td>2024-01-31 23:27:52</td><td>null</td><td>4.0</td><td>null</td><td>null</td><td>114</td><td>236</td><td>0</td><td>18.4</td><td>1.0</td><td>0.5</td><td>2.34</td><td>0.0</td><td>1.0</td><td>25.74</td><td>null</td><td>null</td></tr><tr><td>2</td><td>2024-01-31 23:19:00</td><td>2024-01-31 23:38:00</td><td>null</td><td>3.33</td><td>null</td><td>null</td><td>211</td><td>25</td><td>0</td><td>19.97</td><td>0.0</td><td>0.5</td><td>0.0</td><td>0.0</td><td>1.0</td><td>23.97</td><td>null</td><td>null</td></tr><tr><td>2</td><td>2024-01-31 23:07:23</td><td>2024-01-31 23:25:14</td><td>null</td><td>3.06</td><td>null</td><td>null</td><td>107</td><td>13</td><td>0</td><td>23.88</td><td>0.0</td><td>0.5</td><td>5.58</td><td>0.0</td><td>1.0</td><td>33.46</td><td>null</td><td>null</td></tr><tr><td>1</td><td>2024-01-31 23:58:25</td><td>2024-02-01 00:13:30</td><td>null</td><td>8.1</td><td>null</td><td>null</td><td>138</td><td>75</td><td>0</td><td>32.4</td><td>7.75</td><td>0.5</td><td>7.29</td><td>6.94</td><td>1.0</td><td>55.88</td><td>null</td><td>null</td></tr></tbody></table></div>"
      ],
      "text/plain": [
       "shape: (2_964_624, 19)\n",
       "┌──────────┬───────────┬───────────┬───────────┬───┬───────────┬───────────┬───────────┬───────────┐\n",
       "│ VendorID ┆ tpep_pick ┆ tpep_drop ┆ passenger ┆ … ┆ improveme ┆ total_amo ┆ congestio ┆ Airport_f │\n",
       "│ ---      ┆ up_dateti ┆ off_datet ┆ _count    ┆   ┆ nt_surcha ┆ unt       ┆ n_surchar ┆ ee        │\n",
       "│ i32      ┆ me        ┆ ime       ┆ ---       ┆   ┆ rge       ┆ ---       ┆ ge        ┆ ---       │\n",
       "│          ┆ ---       ┆ ---       ┆ i64       ┆   ┆ ---       ┆ f64       ┆ ---       ┆ f64       │\n",
       "│          ┆ datetime[ ┆ datetime[ ┆           ┆   ┆ f64       ┆           ┆ f64       ┆           │\n",
       "│          ┆ ns]       ┆ ns]       ┆           ┆   ┆           ┆           ┆           ┆           │\n",
       "╞══════════╪═══════════╪═══════════╪═══════════╪═══╪═══════════╪═══════════╪═══════════╪═══════════╡\n",
       "│ 2        ┆ 2024-01-0 ┆ 2024-01-0 ┆ 1         ┆ … ┆ 1.0       ┆ 22.7      ┆ 2.5       ┆ 0.0       │\n",
       "│          ┆ 1         ┆ 1         ┆           ┆   ┆           ┆           ┆           ┆           │\n",
       "│          ┆ 00:57:55  ┆ 01:17:43  ┆           ┆   ┆           ┆           ┆           ┆           │\n",
       "│ 1        ┆ 2024-01-0 ┆ 2024-01-0 ┆ 1         ┆ … ┆ 1.0       ┆ 18.75     ┆ 2.5       ┆ 0.0       │\n",
       "│          ┆ 1         ┆ 1         ┆           ┆   ┆           ┆           ┆           ┆           │\n",
       "│          ┆ 00:03:00  ┆ 00:09:36  ┆           ┆   ┆           ┆           ┆           ┆           │\n",
       "│ 1        ┆ 2024-01-0 ┆ 2024-01-0 ┆ 1         ┆ … ┆ 1.0       ┆ 31.3      ┆ 2.5       ┆ 0.0       │\n",
       "│          ┆ 1         ┆ 1         ┆           ┆   ┆           ┆           ┆           ┆           │\n",
       "│          ┆ 00:17:06  ┆ 00:35:01  ┆           ┆   ┆           ┆           ┆           ┆           │\n",
       "│ 1        ┆ 2024-01-0 ┆ 2024-01-0 ┆ 1         ┆ … ┆ 1.0       ┆ 17.0      ┆ 2.5       ┆ 0.0       │\n",
       "│          ┆ 1         ┆ 1         ┆           ┆   ┆           ┆           ┆           ┆           │\n",
       "│          ┆ 00:36:38  ┆ 00:44:56  ┆           ┆   ┆           ┆           ┆           ┆           │\n",
       "│ 1        ┆ 2024-01-0 ┆ 2024-01-0 ┆ 1         ┆ … ┆ 1.0       ┆ 16.1      ┆ 2.5       ┆ 0.0       │\n",
       "│          ┆ 1         ┆ 1         ┆           ┆   ┆           ┆           ┆           ┆           │\n",
       "│          ┆ 00:46:51  ┆ 00:52:57  ┆           ┆   ┆           ┆           ┆           ┆           │\n",
       "│ …        ┆ …         ┆ …         ┆ …         ┆ … ┆ …         ┆ …         ┆ …         ┆ …         │\n",
       "│ 2        ┆ 2024-01-3 ┆ 2024-01-3 ┆ null      ┆ … ┆ 1.0       ┆ 21.77     ┆ null      ┆ null      │\n",
       "│          ┆ 1         ┆ 1         ┆           ┆   ┆           ┆           ┆           ┆           │\n",
       "│          ┆ 23:45:59  ┆ 23:54:36  ┆           ┆   ┆           ┆           ┆           ┆           │\n",
       "│ 1        ┆ 2024-01-3 ┆ 2024-01-3 ┆ null      ┆ … ┆ 1.0       ┆ 25.74     ┆ null      ┆ null      │\n",
       "│          ┆ 1         ┆ 1         ┆           ┆   ┆           ┆           ┆           ┆           │\n",
       "│          ┆ 23:13:07  ┆ 23:27:52  ┆           ┆   ┆           ┆           ┆           ┆           │\n",
       "│ 2        ┆ 2024-01-3 ┆ 2024-01-3 ┆ null      ┆ … ┆ 1.0       ┆ 23.97     ┆ null      ┆ null      │\n",
       "│          ┆ 1         ┆ 1         ┆           ┆   ┆           ┆           ┆           ┆           │\n",
       "│          ┆ 23:19:00  ┆ 23:38:00  ┆           ┆   ┆           ┆           ┆           ┆           │\n",
       "│ 2        ┆ 2024-01-3 ┆ 2024-01-3 ┆ null      ┆ … ┆ 1.0       ┆ 33.46     ┆ null      ┆ null      │\n",
       "│          ┆ 1         ┆ 1         ┆           ┆   ┆           ┆           ┆           ┆           │\n",
       "│          ┆ 23:07:23  ┆ 23:25:14  ┆           ┆   ┆           ┆           ┆           ┆           │\n",
       "│ 1        ┆ 2024-01-3 ┆ 2024-02-0 ┆ null      ┆ … ┆ 1.0       ┆ 55.88     ┆ null      ┆ null      │\n",
       "│          ┆ 1         ┆ 1         ┆           ┆   ┆           ┆           ┆           ┆           │\n",
       "│          ┆ 23:58:25  ┆ 00:13:30  ┆           ┆   ┆           ┆           ┆           ┆           │\n",
       "└──────────┴───────────┴───────────┴───────────┴───┴───────────┴───────────┴───────────┴───────────┘"
      ]
     },
     "execution_count": 24,
     "metadata": {},
     "output_type": "execute_result"
    }
   ],
   "source": [
    "df = pl.read_parquet(\n",
    "    s3_path,\n",
    "    # storage_options=storage_options\n",
    ")\n",
    "\n",
    "df"
   ]
  },
  {
   "cell_type": "code",
   "execution_count": null,
   "id": "eba42d5b-b405-49fb-9817-f3a52e6367eb",
   "metadata": {},
   "outputs": [],
   "source": [
    "conn.sql(\"select * from yellow_taxi_trip_raw_20241113021337\")"
   ]
  },
  {
   "cell_type": "code",
   "execution_count": 21,
   "id": "9dcea54c-07ba-483c-acf1-31b9d46cfa4a",
   "metadata": {
    "execution": {
     "iopub.execute_input": "2024-11-14T15:12:36.085764Z",
     "iopub.status.busy": "2024-11-14T15:12:36.085522Z",
     "iopub.status.idle": "2024-11-14T15:12:36.089453Z",
     "shell.execute_reply": "2024-11-14T15:12:36.089018Z",
     "shell.execute_reply.started": "2024-11-14T15:12:36.085749Z"
    }
   },
   "outputs": [],
   "source": [
    "conn.close()"
   ]
  },
  {
   "cell_type": "code",
   "execution_count": 25,
   "id": "27e65877-ad26-4ece-9240-6e006325dc3a",
   "metadata": {
    "execution": {
     "iopub.execute_input": "2024-11-15T08:49:19.815085Z",
     "iopub.status.busy": "2024-11-15T08:49:19.814628Z",
     "iopub.status.idle": "2024-11-15T08:49:19.819467Z",
     "shell.execute_reply": "2024-11-15T08:49:19.819048Z",
     "shell.execute_reply.started": "2024-11-15T08:49:19.815068Z"
    }
   },
   "outputs": [
    {
     "data": {
      "text/plain": [
       "Schema([('VendorID', Int32),\n",
       "        ('tpep_pickup_datetime', Datetime(time_unit='ns', time_zone=None)),\n",
       "        ('tpep_dropoff_datetime', Datetime(time_unit='ns', time_zone=None)),\n",
       "        ('passenger_count', Int64),\n",
       "        ('trip_distance', Float64),\n",
       "        ('RatecodeID', Int64),\n",
       "        ('store_and_fwd_flag', String),\n",
       "        ('PULocationID', Int32),\n",
       "        ('DOLocationID', Int32),\n",
       "        ('payment_type', Int64),\n",
       "        ('fare_amount', Float64),\n",
       "        ('extra', Float64),\n",
       "        ('mta_tax', Float64),\n",
       "        ('tip_amount', Float64),\n",
       "        ('tolls_amount', Float64),\n",
       "        ('improvement_surcharge', Float64),\n",
       "        ('total_amount', Float64),\n",
       "        ('congestion_surcharge', Float64),\n",
       "        ('Airport_fee', Float64)])"
      ]
     },
     "execution_count": 25,
     "metadata": {},
     "output_type": "execute_result"
    }
   ],
   "source": [
    "schema_2024 = df.schema\n",
    "schema_2024"
   ]
  },
  {
   "cell_type": "code",
   "execution_count": 18,
   "id": "fa669aae-602a-4e55-9139-7cd606ada8a6",
   "metadata": {
    "execution": {
     "iopub.execute_input": "2024-11-14T09:08:59.260105Z",
     "iopub.status.busy": "2024-11-14T09:08:59.257734Z",
     "iopub.status.idle": "2024-11-14T09:08:59.272847Z",
     "shell.execute_reply": "2024-11-14T09:08:59.271820Z",
     "shell.execute_reply.started": "2024-11-14T09:08:59.260010Z"
    }
   },
   "outputs": [
    {
     "data": {
      "text/plain": [
       "Schema([('vendor_name', String),\n",
       "        ('Trip_Pickup_DateTime', String),\n",
       "        ('Trip_Dropoff_DateTime', String),\n",
       "        ('Passenger_Count', Int64),\n",
       "        ('Trip_Distance', Float64),\n",
       "        ('Start_Lon', Float64),\n",
       "        ('Start_Lat', Float64),\n",
       "        ('Rate_Code', Float64),\n",
       "        ('store_and_forward', Float64),\n",
       "        ('End_Lon', Float64),\n",
       "        ('End_Lat', Float64),\n",
       "        ('Payment_Type', String),\n",
       "        ('Fare_Amt', Float64),\n",
       "        ('surcharge', Float64),\n",
       "        ('mta_tax', Float64),\n",
       "        ('Tip_Amt', Float64),\n",
       "        ('Tolls_Amt', Float64),\n",
       "        ('Total_Amt', Float64)])"
      ]
     },
     "execution_count": 18,
     "metadata": {},
     "output_type": "execute_result"
    }
   ],
   "source": [
    "schema_2009 = df.schema\n",
    "schema_2009"
   ]
  },
  {
   "cell_type": "code",
   "execution_count": null,
   "id": "6617ffb6-c357-484c-98da-99be574e658a",
   "metadata": {},
   "outputs": [],
   "source": []
  }
 ],
 "metadata": {
  "kernelspec": {
   "display_name": "opendata-stack",
   "language": "python",
   "name": "opendata-stack"
  },
  "language_info": {
   "codemirror_mode": {
    "name": "ipython",
    "version": 3
   },
   "file_extension": ".py",
   "mimetype": "text/x-python",
   "name": "python",
   "nbconvert_exporter": "python",
   "pygments_lexer": "ipython3",
   "version": "3.9.6"
  }
 },
 "nbformat": 4,
 "nbformat_minor": 5
}
